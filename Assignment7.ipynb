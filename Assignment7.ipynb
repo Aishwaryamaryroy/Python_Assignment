{
 "cells": [
  {
   "cell_type": "code",
   "execution_count": 1,
   "id": "5da9849e-caa5-4721-932e-c4eafe953b09",
   "metadata": {},
   "outputs": [],
   "source": [
    "import numpy as np\n",
    "import pandas as pd\n",
    "\n"
   ]
  },
  {
   "cell_type": "code",
   "execution_count": 9,
   "id": "d1e1a3cd-b183-419b-9bae-516d5754a222",
   "metadata": {},
   "outputs": [
    {
     "name": "stdout",
     "output_type": "stream",
     "text": [
      "[[ 1  2  3  4  5]\n",
      " [ 6  7  8  9 10]]\n"
     ]
    }
   ],
   "source": [
    "# Exercise 1\n",
    "arr1 = np.arange(1, 11).reshape(2, 5)\n",
    "print(arr1)"
   ]
  },
  {
   "cell_type": "code",
   "execution_count": 11,
   "id": "d3dc3685-016b-4542-b53d-31b5ea9f22f4",
   "metadata": {},
   "outputs": [
    {
     "name": "stdout",
     "output_type": "stream",
     "text": [
      "[ 6  7  8  9 10 11 12 13 14 15 16]\n"
     ]
    }
   ],
   "source": [
    "# Exercise 2\n",
    "arr2 = np.arange(1, 21)\n",
    "subset_arr2 = arr2[5:16]  \n",
    "print(subset_arr2)\n"
   ]
  },
  {
   "cell_type": "code",
   "execution_count": 13,
   "id": "eda90a74-c146-4752-93be-55ef5ce679e6",
   "metadata": {},
   "outputs": [
    {
     "name": "stdout",
     "output_type": "stream",
     "text": [
      "apples     3\n",
      "bananas    2\n",
      "oranges    1\n",
      "pears      4\n",
      "dtype: int64\n"
     ]
    }
   ],
   "source": [
    "# Exercise 3\n",
    "fruit_series = pd.Series({'apples': 3, 'bananas': 2, 'oranges': 1})\n",
    "fruit_series['pears'] = 4\n",
    "print(fruit_series)"
   ]
  },
  {
   "cell_type": "code",
   "execution_count": 15,
   "id": "a6c4a1b1-ac7a-4e9b-8333-1717446dd8e3",
   "metadata": {},
   "outputs": [
    {
     "name": "stdout",
     "output_type": "stream",
     "text": [
      "      name  age gender\n",
      "0     Asha   25      F\n",
      "1    Bobby   32      M\n",
      "2   Charly   28      M\n",
      "3    David   45      M\n",
      "4     Elsa   30      F\n",
      "5  Francis   26      M\n",
      "6    Genny   38      F\n",
      "7    Helen   40      F\n",
      "8    Kevin   29      M\n",
      "9    Sunny   35      M\n"
     ]
    }
   ],
   "source": [
    "data = {\n",
    "    'name': [\"Asha\", \"Bobby\", \"Charly\", \"David\", \"Elsa\", \"Francis\", \"Genny\", \"Helen\", \"Kevin\", \"Sunny\"],\n",
    "    'age': [25, 32, 28, 45, 30, 26, 38, 40, 29, 35],\n",
    "    'gender': [\"F\", \"M\", \"M\", \"M\", \"F\", \"M\", \"F\", \"F\", \"M\", \"M\"]\n",
    "}\n",
    "df = pd.DataFrame(data)\n",
    "print(df)"
   ]
  },
  {
   "cell_type": "code",
   "execution_count": 17,
   "id": "2dba671f-38fd-431d-a304-804e45f9ba3b",
   "metadata": {},
   "outputs": [
    {
     "name": "stdout",
     "output_type": "stream",
     "text": [
      "      name  age gender  occupation\n",
      "0     Asha   25      F  Programmer\n",
      "1    Bobby   32      M     Manager\n",
      "2   Charly   28      M     Analyst\n",
      "3    David   45      M  Programmer\n",
      "4     Elsa   30      F     Manager\n",
      "5  Francis   26      M     Analyst\n",
      "6    Genny   38      F  Programmer\n",
      "7    Helen   40      F     Manager\n",
      "8    Kevin   29      M     Analyst\n",
      "9    Sunny   35      M  Programmer\n"
     ]
    }
   ],
   "source": [
    "# Exercise 5\n",
    "df['occupation'] = [\"Programmer\", \"Manager\", \"Analyst\", \"Programmer\", \"Manager\", \"Analyst\", \"Programmer\", \"Manager\", \"Analyst\", \"Programmer\"]\n",
    "print(df)"
   ]
  },
  {
   "cell_type": "code",
   "execution_count": 21,
   "id": "da792079-94de-4549-a2d5-85835fd64d42",
   "metadata": {},
   "outputs": [
    {
     "name": "stdout",
     "output_type": "stream",
     "text": [
      "    name  age gender  occupation\n",
      "1  Bobby   32      M     Manager\n",
      "3  David   45      M  Programmer\n",
      "4   Elsa   30      F     Manager\n",
      "6  Genny   38      F  Programmer\n",
      "7  Helen   40      F     Manager\n",
      "9  Sunny   35      M  Programmer\n"
     ]
    }
   ],
   "source": [
    "# Exercise 6\n",
    "df1 = df[df['age'] >= 30]\n",
    "print(df1)"
   ]
  },
  {
   "cell_type": "code",
   "execution_count": 29,
   "id": "fa4bab16-4b58-4013-98f3-bd852fdcb25c",
   "metadata": {},
   "outputs": [
    {
     "name": "stdout",
     "output_type": "stream",
     "text": [
      "   Unnamed: 0     name  age gender  occupation\n",
      "0           0     Asha   25      F  Programmer\n",
      "1           1    Bobby   32      M     Manager\n",
      "2           2   Charly   28      M     Analyst\n",
      "3           3    David   45      M  Programmer\n",
      "4           4     Elsa   30      F     Manager\n",
      "5           5  Francis   26      M     Analyst\n",
      "6           6    Genny   38      F  Programmer\n",
      "7           7    Helen   40      F     Manager\n",
      "8           8    Kevin   29      M     Analyst\n",
      "9           9    Sunny   35      M  Programmer\n"
     ]
    }
   ],
   "source": [
    "# Exercise 7\n",
    "df.to_csv(\"data.csv\")\n",
    "df_read = pd.read_csv(\"data.csv\")\n",
    "print(df_read)\n"
   ]
  },
  {
   "cell_type": "code",
   "execution_count": null,
   "id": "0d7fe106-9641-4863-8c07-4cfbc12ece98",
   "metadata": {},
   "outputs": [],
   "source": []
  }
 ],
 "metadata": {
  "kernelspec": {
   "display_name": "Python 3 (ipykernel)",
   "language": "python",
   "name": "python3"
  },
  "language_info": {
   "codemirror_mode": {
    "name": "ipython",
    "version": 3
   },
   "file_extension": ".py",
   "mimetype": "text/x-python",
   "name": "python",
   "nbconvert_exporter": "python",
   "pygments_lexer": "ipython3",
   "version": "3.12.7"
  }
 },
 "nbformat": 4,
 "nbformat_minor": 5
}
